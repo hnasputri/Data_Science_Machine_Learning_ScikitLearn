{
 "cells": [
  {
   "cell_type": "markdown",
   "id": "14db78c3-25ce-46ea-a201-584c9667f1d4",
   "metadata": {},
   "source": [
    "12 Logistic Regression pada Binary Classification Task"
   ]
  },
  {
   "cell_type": "markdown",
   "id": "d276339e-88bd-4567-b1fd-35ce9994b5cd",
   "metadata": {},
   "source": [
    "2273010 - Hana Saputri"
   ]
  },
  {
   "cell_type": "markdown",
   "id": "d06d0dae-3c3b-4042-b70b-8542accf5c58",
   "metadata": {},
   "source": [
    "Source: Youtube Indonesia Belajar"
   ]
  },
  {
   "cell_type": "markdown",
   "id": "623c87fa-b7aa-44ba-b16b-a348b90676c0",
   "metadata": {},
   "source": [
    "Referensi: https://en.wikipedia.org/wiki/Logistic_regression"
   ]
  },
  {
   "cell_type": "markdown",
   "id": "eca5f94e-b8fe-495b-a014-791cfba39284",
   "metadata": {},
   "source": [
    "Formula Dasar"
   ]
  },
  {
   "cell_type": "markdown",
   "id": "850f64b7-1826-4eec-b65e-73b8debcad99",
   "metadata": {},
   "source": [
    "Simple Linear Regression\n",
    "- y = \\alpha + \\beta x\n",
    "- g(x) = \\alpha + \\beta x"
   ]
  },
  {
   "cell_type": "markdown",
   "id": "4aba9abf-dc6a-47a2-8a1d-3ff4bfdb845e",
   "metadata": {},
   "source": [
    "Multiple Linear Regression\n",
    "- y = \\alpha + \\beta_1x_1 + \\beta_2x_2 + \\dots + \\beta_nx_n\n",
    "- g(X) = \\alpha + \\beta X"
   ]
  },
  {
   "cell_type": "markdown",
   "id": "91037fd6-e5ba-4736-82c4-09835360ed97",
   "metadata": {},
   "source": [
    "Logistic Regression\n",
    "- g(X) = sigmoid(\\alpha + \\beta X)\n",
    "- sigmoid(x) = \\frac{1}{1 + exp(-x)}"
   ]
  },
  {
   "attachments": {
    "8f63bbb8-53a6-48bb-98ef-a9dcd0ae716b.png": {
     "image/png": "[encoded data removed]"
    }
   },
   "cell_type": "markdown",
   "id": "4dbcec4a-0373-498c-8461-4e07ca3a762a",
   "metadata": {},
   "source": [
    "![sigmoid.png](attachment:8f63bbb8-53a6-48bb-98ef-a9dcd0ae716b.png)"
   ]
  },
  {
   "cell_type": "markdown",
   "id": "e60dd1a2-d7ac-432a-9ff2-9535ac9f53cb",
   "metadata": {},
   "source": [
    "Dataset: SMS Spam Collection Data Set"
   ]
  },
  {
   "cell_type": "markdown",
   "id": "b2cc63a1-d641-40f4-8382-79dca548d22b",
   "metadata": {},
   "source": [
    "Sumber Data: https://archive.ics.uci.edu/ml/datasets/SMS+Spam+Collection"
   ]
  },
  {
   "cell_type": "code",
   "execution_count": 4,
   "id": "ec8ce1ad-dffc-4b15-95f9-af95d41f2458",
   "metadata": {},
   "outputs": [
    {
     "data": {
      "text/html": [
       "<div>\n",
       "<style scoped>\n",
       "    .dataframe tbody tr th:only-of-type {\n",
       "        vertical-align: middle;\n",
       "    }\n",
       "\n",
       "    .dataframe tbody tr th {\n",
       "        vertical-align: top;\n",
       "    }\n",
       "\n",
       "    .dataframe thead th {\n",
       "        text-align: right;\n",
       "    }\n",
       "</style>\n",
       "<table border=\"1\" class=\"dataframe\">\n",
       "  <thead>\n",
       "    <tr style=\"text-align: right;\">\n",
       "      <th></th>\n",
       "      <th>label</th>\n",
       "      <th>sms</th>\n",
       "    </tr>\n",
       "  </thead>\n",
       "  <tbody>\n",
       "    <tr>\n",
       "      <th>0</th>\n",
       "      <td>ham</td>\n",
       "      <td>Go until jurong point, crazy.. Available only ...</td>\n",
       "    </tr>\n",
       "    <tr>\n",
       "      <th>1</th>\n",
       "      <td>ham</td>\n",
       "      <td>Ok lar... Joking wif u oni...</td>\n",
       "    </tr>\n",
       "    <tr>\n",
       "      <th>2</th>\n",
       "      <td>spam</td>\n",
       "      <td>Free entry in 2 a wkly comp to win FA Cup fina...</td>\n",
       "    </tr>\n",
       "    <tr>\n",
       "      <th>3</th>\n",
       "      <td>ham</td>\n",
       "      <td>U dun say so early hor... U c already then say...</td>\n",
       "    </tr>\n",
       "    <tr>\n",
       "      <th>4</th>\n",
       "      <td>ham</td>\n",
       "      <td>Nah I don't think he goes to usf, he lives aro...</td>\n",
       "    </tr>\n",
       "  </tbody>\n",
       "</table>\n",
       "</div>"
      ],
      "text/plain": [
       "  label                                                sms\n",
       "0   ham  Go until jurong point, crazy.. Available only ...\n",
       "1   ham                      Ok lar... Joking wif u oni...\n",
       "2  spam  Free entry in 2 a wkly comp to win FA Cup fina...\n",
       "3   ham  U dun say so early hor... U c already then say...\n",
       "4   ham  Nah I don't think he goes to usf, he lives aro..."
      ]
     },
     "execution_count": 4,
     "metadata": {},
     "output_type": "execute_result"
    }
   ],
   "source": [
    "import pandas as pd\n",
    "\n",
    "df = pd.read_csv('SMSSpamCollection',\n",
    "                 sep='\\t',\n",
    "                 header=None,\n",
    "                 names=['label', 'sms'])\n",
    "df.head()"
   ]
  },
  {
   "cell_type": "code",
   "execution_count": 5,
   "id": "0ff1b20c-fead-4ef1-9ff7-286cac4d3170",
   "metadata": {},
   "outputs": [
    {
     "data": {
      "text/plain": [
       "label\n",
       "ham     4825\n",
       "spam     747\n",
       "Name: count, dtype: int64"
      ]
     },
     "execution_count": 5,
     "metadata": {},
     "output_type": "execute_result"
    }
   ],
   "source": [
    "df['label'].value_counts()"
   ]
  },
  {
   "cell_type": "markdown",
   "id": "1314fc6e-8e8b-4355-9ac2-b9ebfb40e747",
   "metadata": {},
   "source": [
    "Training & Testing Dataset"
   ]
  },
  {
   "cell_type": "code",
   "execution_count": 6,
   "id": "9b7a63ff-738a-4f56-bb68-472ae083a160",
   "metadata": {},
   "outputs": [
    {
     "data": {
      "text/plain": [
       "array(['ham', 'spam'], dtype='<U4')"
      ]
     },
     "execution_count": 6,
     "metadata": {},
     "output_type": "execute_result"
    }
   ],
   "source": [
    "from sklearn.preprocessing import LabelBinarizer\n",
    "\n",
    "X = df['sms'].values\n",
    "y = df['label'].values\n",
    "\n",
    "lb = LabelBinarizer()\n",
    "y = lb.fit_transform(y).ravel()\n",
    "lb.classes_"
   ]
  },
  {
   "cell_type": "code",
   "execution_count": 7,
   "id": "d4d379a7-bec8-4729-99da-9f0e8e340244",
   "metadata": {},
   "outputs": [
    {
     "name": "stdout",
     "output_type": "stream",
     "text": [
      "['Its going good...no problem..but still need little experience to understand american customer voice...'\n",
      " 'U have a secret admirer. REVEAL who thinks U R So special. Call 09065174042. To opt out Reply REVEAL STOP. 1.50 per msg recd. Cust care 07821230901'\n",
      " 'Ok...' ...\n",
      " \"For ur chance to win a £250 cash every wk TXT: ACTION to 80608. T's&C's www.movietrivia.tv custcare 08712405022, 1x150p/wk\"\n",
      " 'R U &SAM P IN EACHOTHER. IF WE MEET WE CAN GO 2 MY HOUSE'\n",
      " 'Mm feeling sleepy. today itself i shall get that dear'] \n",
      "\n",
      "[0 1 0 ... 1 0 0]\n"
     ]
    }
   ],
   "source": [
    "from sklearn.model_selection import train_test_split\n",
    "\n",
    "X_train, X_test, y_train, y_test = train_test_split(X,\n",
    "                                                    y,\n",
    "                                                    test_size=0.25,\n",
    "                                                    random_state=0)\n",
    "\n",
    "print(X_train, '\\n')\n",
    "print(y_train)"
   ]
  },
  {
   "cell_type": "markdown",
   "id": "e0abf20d-91b1-48b1-b2a0-99d2a5d15392",
   "metadata": {},
   "source": [
    "Feature Extraction dengan TF-IDF"
   ]
  },
  {
   "cell_type": "code",
   "execution_count": 8,
   "id": "d2f1f343-99ac-4531-ae8e-2a4044282f35",
   "metadata": {},
   "outputs": [
    {
     "name": "stdout",
     "output_type": "stream",
     "text": [
      "  (0, 6903)\t0.3591386422223876\n",
      "  (0, 2006)\t0.2898082580285881\n",
      "  (0, 900)\t0.4114867709157148\n",
      "  (0, 6739)\t0.3546359942830148\n",
      "  (0, 2554)\t0.3825278811525034\n",
      "  (0, 3926)\t0.3126721340000456\n",
      "  (0, 4453)\t0.2297719954323795\n",
      "  (0, 5123)\t0.308974289326673\n",
      "  (0, 3007)\t0.21421364306658514\n",
      "  (0, 2997)\t0.23173982975834367\n",
      "  (1, 36)\t0.28902673040368515\n",
      "  (1, 1548)\t0.18167737976542422\n",
      "  (1, 2003)\t0.2711077935907125\n",
      "  (1, 5301)\t0.2711077935907125\n",
      "  (1, 4358)\t0.17341410292348694\n",
      "  (1, 532)\t0.20186022353306565\n",
      "  (1, 6131)\t0.16142609035094446\n",
      "  (1, 5394)\t0.16464655071448758\n",
      "  (1, 4677)\t0.24039776602646504\n",
      "  (1, 216)\t0.28902673040368515\n",
      "  (1, 6013)\t0.20089911182610476\n",
      "  (1, 6472)\t0.24039776602646504\n",
      "  (1, 5441)\t0.5009783758205715\n",
      "  (1, 799)\t0.25048918791028574\n",
      "  (1, 5642)\t0.24344998442301355\n",
      "  :\t:\n",
      "  (4176, 343)\t0.2811068572055718\n",
      "  (4176, 107)\t0.29968668460649284\n",
      "  (4176, 2004)\t0.25589560236817055\n",
      "  (4176, 4350)\t0.29968668460649284\n",
      "  (4176, 637)\t0.29968668460649284\n",
      "  (4176, 7114)\t0.4512018097459442\n",
      "  (4176, 365)\t0.2388005587702937\n",
      "  (4176, 1612)\t0.21138425595332702\n",
      "  (4176, 779)\t0.2811068572055718\n",
      "  (4176, 7195)\t0.17892283441772988\n",
      "  (4176, 1569)\t0.18895085073406012\n",
      "  (4176, 7083)\t0.19523751585154273\n",
      "  (4176, 6684)\t0.22114159453800114\n",
      "  (4176, 6693)\t0.16491299289150899\n",
      "  (4176, 6792)\t0.1407604617250961\n",
      "  (4177, 2362)\t0.6158854885899457\n",
      "  (4177, 5565)\t0.5506066649743346\n",
      "  (4177, 4177)\t0.3636187667918345\n",
      "  (4177, 3319)\t0.43046342221720785\n",
      "  (4178, 5883)\t0.548491137555895\n",
      "  (4178, 4279)\t0.4530624713751054\n",
      "  (4178, 5720)\t0.3963527249882828\n",
      "  (4178, 6555)\t0.2897850627168302\n",
      "  (4178, 2641)\t0.3993042639531407\n",
      "  (4178, 2068)\t0.3055766821331892\n"
     ]
    }
   ],
   "source": [
    "from sklearn.feature_extraction.text import TfidfVectorizer\n",
    "\n",
    "vectorizer = TfidfVectorizer(stop_words='english')\n",
    "\n",
    "X_train_tfidf = vectorizer.fit_transform(X_train)\n",
    "X_test_tfidf = vectorizer.transform(X_test)\n",
    "\n",
    "print(X_train_tfidf)"
   ]
  },
  {
   "cell_type": "markdown",
   "id": "e214fcdc-479f-4c79-95cc-e4530df4ceac",
   "metadata": {},
   "source": [
    "Binary Classification dengan Logistic Regression"
   ]
  },
  {
   "cell_type": "code",
   "execution_count": 9,
   "id": "a49e13b7-30ff-48ef-8b1e-2a7586390c78",
   "metadata": {},
   "outputs": [
    {
     "name": "stdout",
     "output_type": "stream",
     "text": [
      "PRED: 0 - SMS: Storming msg: Wen u lift d phne, u say \"HELLO\" Do u knw wt is d real meaning of HELLO?? . . . It's d name of a girl..! . . . Yes.. And u knw who is dat girl?? \"Margaret Hello\" She is d girlfrnd f Grahmbell who invnted telphone... . . . . Moral:One can 4get d name of a person, bt not his girlfrnd... G o o d n i g h t . . .@\n",
      "\n",
      "PRED: 0 - SMS: <Forwarded from 448712404000>Please CALL 08712404000 immediately as there is an urgent message waiting for you.\n",
      "\n",
      "PRED: 0 - SMS: And also I've sorta blown him off a couple times recently so id rather not text him out of the blue looking for weed\n",
      "\n",
      "PRED: 0 - SMS: Sir Goodmorning, Once free call me.\n",
      "\n",
      "PRED: 0 - SMS: All will come alive.better correct any good looking figure there itself..\n",
      "\n"
     ]
    }
   ],
   "source": [
    "from sklearn.linear_model import LogisticRegression\n",
    "\n",
    "model = LogisticRegression()\n",
    "model.fit(X_train_tfidf, y_train)\n",
    "y_pred = model.predict(X_test_tfidf)\n",
    "\n",
    "for pred, sms in zip(y_pred[:5], X_test[:5]):\n",
    "    print(f'PRED: {pred} - SMS: {sms}\\n')"
   ]
  },
  {
   "cell_type": "markdown",
   "id": "63eae046-ef47-4a70-bdc1-f86a4d48d0bb",
   "metadata": {},
   "source": [
    "Evaluation Metrics pada Binary Classification\n",
    "- Confusion Matrix\n",
    "- Accuracy\n",
    "- Precission & Recall\n",
    "- F1 Score\n",
    "- ROC"
   ]
  },
  {
   "cell_type": "markdown",
   "id": "d094f2c0-230d-4fdc-9d10-284695c55c10",
   "metadata": {},
   "source": [
    "Terminologi Dasar\n",
    "- True Positive (TP)\n",
    "- True Negative (TN)\n",
    "- False Positive (FP)\n",
    "- False Negative (FN)"
   ]
  },
  {
   "cell_type": "markdown",
   "id": "40099c6a-d34a-4b68-9bdf-9d4a0c81262d",
   "metadata": {},
   "source": [
    "Confusion Matrix"
   ]
  },
  {
   "cell_type": "markdown",
   "id": "7dc7ee30-ecbc-48de-a67e-e9adfc9060a5",
   "metadata": {},
   "source": [
    "Confusion matrix seringkali juga dikenal sebagai error matrix."
   ]
  },
  {
   "cell_type": "markdown",
   "id": "c7b13237-25d7-4b7d-a87b-2589a2729ed4",
   "metadata": {},
   "source": [
    "Referensi: https://en.wikipedia.org/wiki/Confusion_matrix"
   ]
  },
  {
   "cell_type": "code",
   "execution_count": 10,
   "id": "a5f3a825-cbb6-4f81-9243-f64af886c1ea",
   "metadata": {},
   "outputs": [
    {
     "data": {
      "text/plain": [
       "array([[1207,    1],\n",
       "       [  47,  138]], dtype=int64)"
      ]
     },
     "execution_count": 10,
     "metadata": {},
     "output_type": "execute_result"
    }
   ],
   "source": [
    "from sklearn.metrics import confusion_matrix\n",
    "\n",
    "matrix = confusion_matrix(y_test, y_pred)\n",
    "matrix"
   ]
  },
  {
   "cell_type": "code",
   "execution_count": 11,
   "id": "b8a56641-6f01-4d84-8073-6a2834937403",
   "metadata": {},
   "outputs": [
    {
     "name": "stdout",
     "output_type": "stream",
     "text": [
      "TN: 1207\n",
      "FP: 1\n",
      "FN: 47\n",
      "TP: 138\n"
     ]
    }
   ],
   "source": [
    "tn, fp, fn, tp = matrix.ravel()\n",
    "\n",
    "print(f'TN: {tn}')\n",
    "print(f'FP: {fp}')\n",
    "print(f'FN: {fn}')\n",
    "print(f'TP: {tp}')"
   ]
  },
  {
   "cell_type": "code",
   "execution_count": 12,
   "id": "d882300d-d865-47ef-9fdf-457d5db1b562",
   "metadata": {},
   "outputs": [
    {
     "data": {
      "image/png": "[encoded data removed]",
      "text/plain": [
       "<Figure size 480x480 with 2 Axes>"
      ]
     },
     "metadata": {},
     "output_type": "display_data"
    }
   ],
   "source": [
    "import matplotlib.pyplot as plt\n",
    "\n",
    "plt.matshow(matrix)\n",
    "plt.colorbar()\n",
    "\n",
    "plt.title('Confusion Matrix')\n",
    "plt.ylabel('True label')\n",
    "plt.xlabel('Predicted label')\n",
    "plt.show()"
   ]
  },
  {
   "cell_type": "markdown",
   "id": "9311b927-e9b0-4989-a7dd-f96d7f9be8d0",
   "metadata": {},
   "source": [
    "Accuracy"
   ]
  },
  {
   "cell_type": "markdown",
   "id": "18610382-97c3-445d-8082-206689fad751",
   "metadata": {},
   "source": [
    "Accuracy mengukur porsi dari hasil prediksi yang tepat."
   ]
  },
  {
   "cell_type": "markdown",
   "id": "360f50c7-6cae-4cbf-ab50-1d9e4b1ac173",
   "metadata": {},
   "source": [
    "Accuracy = \\frac{TP + TN}{TP + TN + FP + FN} = \\frac{correct}{total}"
   ]
  },
  {
   "cell_type": "markdown",
   "id": "fb42a971-8378-44dd-90c3-5841e15bfbfd",
   "metadata": {},
   "source": [
    "Referensi: https://en.wikipedia.org/wiki/Accuracy_and_precision"
   ]
  },
  {
   "cell_type": "code",
   "execution_count": 13,
   "id": "92a7a6e7-e4ea-4aa7-8404-aa5a6f2508bb",
   "metadata": {},
   "outputs": [
    {
     "data": {
      "text/plain": [
       "0.9655419956927495"
      ]
     },
     "execution_count": 13,
     "metadata": {},
     "output_type": "execute_result"
    }
   ],
   "source": [
    "from sklearn.metrics import accuracy_score\n",
    "\n",
    "accuracy_score(y_test, y_pred)"
   ]
  },
  {
   "cell_type": "markdown",
   "id": "00ba308e-5ec4-4d12-a9ad-ddd1b39c2b12",
   "metadata": {},
   "source": [
    "Precission & Recall"
   ]
  },
  {
   "cell_type": "markdown",
   "id": "f86dcd5c-c242-426e-9400-cbef9e0a78f5",
   "metadata": {},
   "source": [
    "Selain menggunakan accuracy, performa dari suatu classifier umumnya juga diukur berdasarkan nilai Precission dan Recall."
   ]
  },
  {
   "cell_type": "markdown",
   "id": "2f7ae87f-e59a-43e9-a734-b224217918d2",
   "metadata": {},
   "source": [
    "Referensi: https://en.wikipedia.org/wiki/Precision_and_recall"
   ]
  },
  {
   "cell_type": "markdown",
   "id": "cbc98eb1-ad39-4816-b976-160dcb24dbb9",
   "metadata": {},
   "source": [
    "Precission or Positive Predictive Value (PPV)"
   ]
  },
  {
   "cell_type": "markdown",
   "id": "fdfc033d-89eb-4929-b39c-e03f3747c1b0",
   "metadata": {},
   "source": [
    "Precission = \\frac{TP}{TP + FP}"
   ]
  },
  {
   "cell_type": "markdown",
   "id": "87d3d802-507c-4824-8c1c-fff950ef9606",
   "metadata": {},
   "source": [
    "Referensi: https://en.wikipedia.org/wiki/Positive_and_negative_predictive_values"
   ]
  },
  {
   "cell_type": "code",
   "execution_count": 14,
   "id": "e72d2773-6636-4a23-abaf-2185bf1ebbdb",
   "metadata": {},
   "outputs": [
    {
     "data": {
      "text/plain": [
       "0.9928057553956835"
      ]
     },
     "execution_count": 14,
     "metadata": {},
     "output_type": "execute_result"
    }
   ],
   "source": [
    "from sklearn.metrics import precision_score\n",
    "\n",
    "precision_score(y_test, y_pred)"
   ]
  },
  {
   "cell_type": "markdown",
   "id": "5251ea77-9edc-448f-9155-8f5dd007ac11",
   "metadata": {},
   "source": [
    "Recall or True Positive Rate (TPR) or Sensitivity"
   ]
  },
  {
   "cell_type": "markdown",
   "id": "02fe7799-5ad4-482a-8ee8-ff78c6eac95c",
   "metadata": {},
   "source": [
    "Recall = \\frac{TP}{TP + FN}"
   ]
  },
  {
   "cell_type": "markdown",
   "id": "f5d2da51-212b-4f74-9360-bba7f3cf3a93",
   "metadata": {},
   "source": [
    "Referensi: https://en.wikipedia.org/wiki/Sensitivity_and_specificity"
   ]
  },
  {
   "cell_type": "code",
   "execution_count": 15,
   "id": "903349c0-b187-466f-a9e0-3da372be57a5",
   "metadata": {},
   "outputs": [
    {
     "data": {
      "text/plain": [
       "0.745945945945946"
      ]
     },
     "execution_count": 15,
     "metadata": {},
     "output_type": "execute_result"
    }
   ],
   "source": [
    "from sklearn.metrics import recall_score\n",
    "\n",
    "recall_score(y_test, y_pred)"
   ]
  },
  {
   "cell_type": "markdown",
   "id": "6bd6e92a-049a-4061-bfdc-555c10ba3014",
   "metadata": {},
   "source": [
    "F1-Score"
   ]
  },
  {
   "cell_type": "markdown",
   "id": "4b4a3078-b7d9-4301-abd4-b23f113cd6df",
   "metadata": {},
   "source": [
    "F1-score atau F1-measure adalah harmonic mean dari precission dan recall."
   ]
  },
  {
   "cell_type": "markdown",
   "id": "9617dd0a-2345-4487-9418-af1b3025aefc",
   "metadata": {},
   "source": [
    "F1\\ score = \\frac{precission\\ \\times\\ recall}{precission\\ +\\ recall}"
   ]
  },
  {
   "cell_type": "markdown",
   "id": "537fb7a8-0b72-46c8-abc7-8824b9bff9f3",
   "metadata": {},
   "source": [
    "Referensi: https://en.wikipedia.org/wiki/F-score"
   ]
  },
  {
   "cell_type": "code",
   "execution_count": 16,
   "id": "9efa76c5-30af-451e-a869-ef9d621d15ee",
   "metadata": {},
   "outputs": [
    {
     "data": {
      "text/plain": [
       "0.8518518518518519"
      ]
     },
     "execution_count": 16,
     "metadata": {},
     "output_type": "execute_result"
    }
   ],
   "source": [
    "from sklearn.metrics import f1_score\n",
    "\n",
    "f1_score(y_test, y_pred)"
   ]
  },
  {
   "cell_type": "markdown",
   "id": "a79e8342-1f31-4a78-ad07-4e76dca770bd",
   "metadata": {},
   "source": [
    "ROC: Receiver Operating Characteristic"
   ]
  },
  {
   "cell_type": "markdown",
   "id": "4bfbacce-1b51-49d2-ae6f-3e6d125d0945",
   "metadata": {},
   "source": [
    "ROC menawarkan visualisasi terhadap performa dari classifier dengan membandingkan nilai Recall (TPR) dan nilai Fallout (FPR)"
   ]
  },
  {
   "cell_type": "markdown",
   "id": "af0bd1b5-461e-4e85-949a-97e6015827e4",
   "metadata": {},
   "source": [
    "fallout = \\frac{FP}{TN+FP}"
   ]
  },
  {
   "cell_type": "markdown",
   "id": "d35a49c7-9c41-43f4-8562-929903abf07a",
   "metadata": {},
   "source": [
    "Referensi: https://en.wikipedia.org/wiki/Receiver_operating_characteristic"
   ]
  },
  {
   "cell_type": "code",
   "execution_count": null,
   "id": "6f307e8f-307e-4abd-bcb2-e1bd6eee6e46",
   "metadata": {},
   "outputs": [],
   "source": [
    "from sklearn.metrics import roc_curve, auc\n",
    "\n",
    "prob_estimates = model.predict_proba(X_test_tfidf)\n",
    "\n",
    "fpr, tpr, threshhold = roc_curve(y_test, prob_estimates[:, 1])\n",
    "nilai_auc = auc(fpr, tpr)\n",
    "\n",
    "plt.plot(fpr, tpr, 'b', label=f'AUC={nilai_auc}')\n",
    "plt.plot([0,1], [0,1], 'r--', label='Random CLassifier')\n",
    "\n",
    "plt.title('ROC: Receiver Operating Characteristic')\n",
    "plt.xlabel('Fallout or False Positive Rate')\n",
    "plt.ylabel('Recall or True Positive Rate')\n",
    "plt.legend()\n",
    "plt.show()"
   ]
  }
 ],
 "metadata": {
  "kernelspec": {
   "display_name": "Python 3 (ipykernel)",
   "language": "python",
   "name": "python3"
  },
  "language_info": {
   "codemirror_mode": {
    "name": "ipython",
    "version": 3
   },
   "file_extension": ".py",
   "mimetype": "text/x-python",
   "name": "python",
   "nbconvert_exporter": "python",
   "pygments_lexer": "ipython3",
   "version": "3.12.2"
  }
 },
 "nbformat": 4,
 "nbformat_minor": 5
}
