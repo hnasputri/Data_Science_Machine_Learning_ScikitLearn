{
 "cells": [
  {
   "cell_type": "markdown",
   "id": "a839022f-db40-4e4f-8d7e-6d36ebab24c4",
   "metadata": {},
   "source": [
    "10 Mengenal Text Processing: Bag of Words & Stop Word Filtering"
   ]
  },
  {
   "cell_type": "markdown",
   "id": "913a4893-ed0b-4fcf-bd0b-2dff67680eea",
   "metadata": {},
   "source": [
    "2273010 - Hana Saputri"
   ]
  },
  {
   "cell_type": "markdown",
   "id": "431ddaa0-cabd-4003-843b-1d725eba86eb",
   "metadata": {},
   "source": [
    "Source: Youtube Indonesia Belajar"
   ]
  },
  {
   "cell_type": "markdown",
   "id": "e1726284-b17e-40ed-b005-4cfa03153fbd",
   "metadata": {},
   "source": [
    "Bag of Words model sebagai representasi text"
   ]
  },
  {
   "cell_type": "markdown",
   "id": "81e7c8b5-87fd-474c-9acf-52659756f5e0",
   "metadata": {},
   "source": [
    "Bag of Words digunakan untuk menyederhanakan representasi text sebagai sekumpulan kata serta mengabaikan grammar dan posisi setiap kata pada kalimat. Text akan dikonversi menjadi lowercase dan tanda baca akan diabaikan."
   ]
  },
  {
   "cell_type": "markdown",
   "id": "ad3a4416-6c4e-404d-b78b-3fd4c1439fbf",
   "metadata": {},
   "source": [
    "Referensi: https://en.wikipedia.org/wiki/Bag-of-words_model"
   ]
  },
  {
   "cell_type": "markdown",
   "id": "450be4f8-aedf-4304-914a-83cd970bac1f",
   "metadata": {},
   "source": [
    "Dataset"
   ]
  },
  {
   "cell_type": "code",
   "execution_count": 2,
   "id": "92b7ce3d-096e-4ae6-9ec7-fdb66e255f52",
   "metadata": {},
   "outputs": [
    {
     "data": {
      "text/plain": [
       "['Linux has been around since the mid-1990s.',\n",
       " 'Linux distributions include the Linux kernel.',\n",
       " 'Linux is one of the most prominent open-source software.']"
      ]
     },
     "execution_count": 2,
     "metadata": {},
     "output_type": "execute_result"
    }
   ],
   "source": [
    "corpus = [\n",
    "    'Linux has been around since the mid-1990s.',\n",
    "    'Linux distributions include the Linux kernel.',\n",
    "    'Linux is one of the most prominent open-source software.'\n",
    "]\n",
    "\n",
    "corpus"
   ]
  },
  {
   "cell_type": "markdown",
   "id": "22a1776e-ae9a-4fa2-98b5-cc4411ba0415",
   "metadata": {},
   "source": [
    "Bag of Words model dengan CountVectorizer"
   ]
  },
  {
   "cell_type": "markdown",
   "id": "77cd33e9-4968-42b8-9e58-f1e3dca1729e",
   "metadata": {},
   "source": [
    "Bag of Words model dapat diterapkan dengan memanfatkan CountVectorizer."
   ]
  },
  {
   "cell_type": "code",
   "execution_count": 3,
   "id": "1a7e7582-4e29-4855-905d-5dd86708d168",
   "metadata": {},
   "outputs": [
    {
     "data": {
      "text/plain": [
       "matrix([[1, 1, 1, 0, 1, 0, 0, 0, 1, 1, 0, 0, 0, 0, 0, 1, 0, 0, 1],\n",
       "        [0, 0, 0, 1, 0, 1, 0, 1, 2, 0, 0, 0, 0, 0, 0, 0, 0, 0, 1],\n",
       "        [0, 0, 0, 0, 0, 0, 1, 0, 1, 0, 1, 1, 1, 1, 1, 0, 1, 1, 1]],\n",
       "       dtype=int64)"
      ]
     },
     "execution_count": 3,
     "metadata": {},
     "output_type": "execute_result"
    }
   ],
   "source": [
    "from sklearn.feature_extraction.text import CountVectorizer\n",
    "\n",
    "vectorizer = CountVectorizer()\n",
    "vectorized_X = vectorizer.fit_transform(corpus).todense()\n",
    "vectorized_X"
   ]
  },
  {
   "cell_type": "code",
   "execution_count": 9,
   "id": "92b7771c-64da-4b66-84e3-6f6a1356c205",
   "metadata": {},
   "outputs": [
    {
     "data": {
      "text/plain": [
       "array(['1990s', 'distributions', 'include', 'kernel', 'linux', 'mid',\n",
       "       'open', 'prominent', 'software', 'source'], dtype=object)"
      ]
     },
     "execution_count": 9,
     "metadata": {},
     "output_type": "execute_result"
    }
   ],
   "source": [
    "vectorizer.get_feature_names_out()"
   ]
  },
  {
   "cell_type": "markdown",
   "id": "33e70610-497e-4b9c-9e06-a1af2e91f18e",
   "metadata": {},
   "source": [
    "Euclidean Distance untuk mengukur kedekatan/jarak antar dokumen (vector)"
   ]
  },
  {
   "cell_type": "code",
   "execution_count": 17,
   "id": "cfd98bf7-471d-4e93-af35-67cd10413b98",
   "metadata": {},
   "outputs": [
    {
     "name": "stdout",
     "output_type": "stream",
     "text": [
      "Jarak dokumen 1 dan 2: 2.449489742783178\n",
      "Jarak dokumen 1 dan 3: 2.449489742783178\n",
      "Jarak dokumen 2 dan 3: 2.8284271247461903\n"
     ]
    }
   ],
   "source": [
    "from sklearn.metrics.pairwise import euclidean_distances\n",
    "\n",
    "for i in range(len(vectorized_X)):\n",
    "    for j in range(i + 1, len(vectorized_X)):  \n",
    "        vec_i = np.asarray(vectorized_X[i])\n",
    "        vec_j = np.asarray(vectorized_X[j])\n",
    "        jarak = euclidean_distances(vec_i, vec_j)\n",
    "        print(f'Jarak dokumen {i+1} dan {j+1}: {jarak[0][0]}') "
   ]
  },
  {
   "cell_type": "markdown",
   "id": "60e0a60f-950f-4020-bef0-01dd13988115",
   "metadata": {},
   "source": [
    "Stop Word Filtering pada text"
   ]
  },
  {
   "cell_type": "markdown",
   "id": "86adce6b-6916-4d4c-a233-fe94a10cdb3e",
   "metadata": {},
   "source": [
    "Stop Word Filtering menyederhanakan representasi text dengan mengabaikan beberapa kata seperti determiners (the, a, an), auxiliary verbs (do, be, will), dan prepositions (on, in, at).\n",
    "\n",
    "Referensi: https://en.wikipedia.org/wiki/Stop_word"
   ]
  },
  {
   "cell_type": "markdown",
   "id": "b3143371-ab49-4b94-898d-a89b81354873",
   "metadata": {},
   "source": [
    "Dataset"
   ]
  },
  {
   "cell_type": "code",
   "execution_count": 6,
   "id": "9a6c0953-c037-4c7e-9ac1-31bf931cd435",
   "metadata": {},
   "outputs": [
    {
     "data": {
      "text/plain": [
       "['Linux has been around since the mid-1990s.',\n",
       " 'Linux distributions include the Linux kernel.',\n",
       " 'Linux is one of the most prominent open-source software.']"
      ]
     },
     "execution_count": 6,
     "metadata": {},
     "output_type": "execute_result"
    }
   ],
   "source": [
    "corpus"
   ]
  },
  {
   "cell_type": "markdown",
   "id": "f0940a62-bde9-41a0-9962-56ba6532c310",
   "metadata": {},
   "source": [
    "Stop Word Filtering dengan CountVectorizer\n",
    "Stop Word Filtering juga dapat diterapkan dengan memanfatkan CountVectorizer."
   ]
  },
  {
   "cell_type": "code",
   "execution_count": 7,
   "id": "519d91d5-26c5-4a0c-9630-266651e67af5",
   "metadata": {},
   "outputs": [
    {
     "data": {
      "text/plain": [
       "matrix([[1, 0, 0, 0, 1, 1, 0, 0, 0, 0],\n",
       "        [0, 1, 1, 1, 2, 0, 0, 0, 0, 0],\n",
       "        [0, 0, 0, 0, 1, 0, 1, 1, 1, 1]], dtype=int64)"
      ]
     },
     "execution_count": 7,
     "metadata": {},
     "output_type": "execute_result"
    }
   ],
   "source": [
    "from sklearn.feature_extraction.text import CountVectorizer\n",
    "\n",
    "vectorizer = CountVectorizer(stop_words='english')\n",
    "vectorized_X = vectorizer.fit_transform(corpus).todense()\n",
    "vectorized_X"
   ]
  },
  {
   "cell_type": "code",
   "execution_count": 11,
   "id": "5d6e848f-d2e5-4732-89bd-307032217cf4",
   "metadata": {},
   "outputs": [
    {
     "data": {
      "text/plain": [
       "array(['1990s', 'distributions', 'include', 'kernel', 'linux', 'mid',\n",
       "       'open', 'prominent', 'software', 'source'], dtype=object)"
      ]
     },
     "execution_count": 11,
     "metadata": {},
     "output_type": "execute_result"
    }
   ],
   "source": [
    "vectorizer.get_feature_names_out()"
   ]
  }
 ],
 "metadata": {
  "kernelspec": {
   "display_name": "Python 3 (ipykernel)",
   "language": "python",
   "name": "python3"
  },
  "language_info": {
   "codemirror_mode": {
    "name": "ipython",
    "version": 3
   },
   "file_extension": ".py",
   "mimetype": "text/x-python",
   "name": "python",
   "nbconvert_exporter": "python",
   "pygments_lexer": "ipython3",
   "version": "3.12.2"
  }
 },
 "nbformat": 4,
 "nbformat_minor": 5
}
